{
 "cells": [
  {
   "cell_type": "markdown",
   "id": "89cce80a-50f8-4370-b6e5-2c13f7e03ae4",
   "metadata": {},
   "source": [
    "(1) Data Description"
   ]
  },
  {
   "cell_type": "markdown",
   "id": "507e93b3-8ca8-4e54-822d-145e6e3d7068",
   "metadata": {},
   "source": [
    "Dataset 1: players.csv\n",
    "\n",
    "Players.csv is a database that consists of various information regarding different players.\n",
    "\n",
    "There are 196 observations which each have 7 variables:\n",
    "1. experience is a categorical variable depicting the Minecraft experience level of the player including:\n",
    "    - Beginner\n",
    "    - Amateur\n",
    "    - Regular\n",
    "    - Pro\n",
    "    - Veteran\n",
    "2. subscribe is a categorical variable that represents whether the user has subscribed for email notifications\n",
    "3. hashedEmail is a categorical variable that represents the users access token linked to their email\n",
    "4. played_hours is a quantitative variable that represents the hours that the player has spent in the game\n",
    "5. name is a categorical variable that represents the name of the player\n",
    "6. gender is a categorical variable that represents the player's gender\n",
    "7. age is a quantitative variable that represents the player's age\n",
    "\n",
    "\n",
    "Data like experience level, name, gender, and age were collected when players initially signed up. Subscribe is automatically true when users first sign up and users can choose to unsubscribe later on. hashedEmail is the token generated and sent to the player's email after signup. Hours played comes from tracking how long the player has spent in game. \n",
    "\n",
    "Possible errors in the data could come from users being untruthful. Additionally there is an N/A for age in observation 196."
   ]
  },
  {
   "cell_type": "markdown",
   "id": "586cfb04-95bf-48c8-a284-e47d2a30448d",
   "metadata": {},
   "source": [
    "Dataset 2: sessions.csv\n",
    "\n",
    "sessions.csv is a database that consists of various information regarding play sessions of players.\n",
    "\n",
    "There are 1535 observations which each have 5 variables:\n",
    "1. hashedEmail is a categorical variable that represents the users access token linked to their email\n",
    "2. start_time is a quantitative variable that represents the time the user started that session\n",
    "3. end_time is a quantitiative variable that represents the time the user ended that session\n",
    "4. original_start_time is a quantitative variable that represents the time the user started that session as a unix timestamp\n",
    "5. original_end_time is the quantitative variable that represents the time the user ended that session as a unix timestamp\n",
    "\n",
    "The hashedEmail is the token generated and sent to the player's email after signup. All of the time variables were taken from server logs.\n",
    "\n",
    "A possible error could be that there is too much rounding for the variables that are unix timestamps."
   ]
  },
  {
   "cell_type": "markdown",
   "id": "5fcacb3a-1a3f-481d-b0a2-c65f17d80157",
   "metadata": {},
   "source": [
    "(2) Questions:"
   ]
  },
  {
   "cell_type": "markdown",
   "id": "3c3484f1-13d4-47af-8d90-a2f9ba7ff281",
   "metadata": {},
   "source": [
    "Can the experience variable and age variable predict the play time variable in players.csv?\n",
    "\n",
    "The data can help us address this question because different experience levels could lead to different levels of interest in the game which could affect playtime. Different ages could affect playtime because people of different ages have different priorities in life so some may be more committed to playing the game and spend more time than others."
   ]
  },
  {
   "cell_type": "markdown",
   "id": "a4b81c95-8548-46ed-a4f9-63fea7384118",
   "metadata": {},
   "source": [
    "(3) Exploratory Data Analysis and Visualization"
   ]
  },
  {
   "cell_type": "markdown",
   "id": "205b0d09-2157-4063-b820-cca362372a81",
   "metadata": {},
   "source": [
    "The datasets can be loaded into R:"
   ]
  },
  {
   "cell_type": "code",
   "execution_count": 1,
   "id": "1c3dbd68-14c8-4229-8e16-57444b12267d",
   "metadata": {},
   "outputs": [
    {
     "name": "stderr",
     "output_type": "stream",
     "text": [
      "── \u001b[1mAttaching core tidyverse packages\u001b[22m ──────────────────────── tidyverse 2.0.0 ──\n",
      "\u001b[32m✔\u001b[39m \u001b[34mdplyr    \u001b[39m 1.1.4     \u001b[32m✔\u001b[39m \u001b[34mreadr    \u001b[39m 2.1.5\n",
      "\u001b[32m✔\u001b[39m \u001b[34mforcats  \u001b[39m 1.0.0     \u001b[32m✔\u001b[39m \u001b[34mstringr  \u001b[39m 1.5.1\n",
      "\u001b[32m✔\u001b[39m \u001b[34mggplot2  \u001b[39m 3.5.1     \u001b[32m✔\u001b[39m \u001b[34mtibble   \u001b[39m 3.2.1\n",
      "\u001b[32m✔\u001b[39m \u001b[34mlubridate\u001b[39m 1.9.3     \u001b[32m✔\u001b[39m \u001b[34mtidyr    \u001b[39m 1.3.1\n",
      "\u001b[32m✔\u001b[39m \u001b[34mpurrr    \u001b[39m 1.0.2     \n",
      "── \u001b[1mConflicts\u001b[22m ────────────────────────────────────────── tidyverse_conflicts() ──\n",
      "\u001b[31m✖\u001b[39m \u001b[34mdplyr\u001b[39m::\u001b[32mfilter()\u001b[39m masks \u001b[34mstats\u001b[39m::filter()\n",
      "\u001b[31m✖\u001b[39m \u001b[34mdplyr\u001b[39m::\u001b[32mlag()\u001b[39m    masks \u001b[34mstats\u001b[39m::lag()\n",
      "\u001b[36mℹ\u001b[39m Use the conflicted package (\u001b[3m\u001b[34m<http://conflicted.r-lib.org/>\u001b[39m\u001b[23m) to force all conflicts to become errors\n"
     ]
    }
   ],
   "source": [
    "library(tidyverse)\n",
    "library(repr)\n",
    "options(repr.matrix.max.rows = 6)\n",
    "library(readxl)"
   ]
  },
  {
   "cell_type": "code",
   "execution_count": 4,
   "id": "6b1fbe76-3e2d-432f-b516-88c12f623a2a",
   "metadata": {},
   "outputs": [
    {
     "name": "stderr",
     "output_type": "stream",
     "text": [
      "Warning message:\n",
      "“\u001b[1m\u001b[22mOne or more parsing issues, call `problems()` on your data frame for details,\n",
      "e.g.:\n",
      "  dat <- vroom(...)\n",
      "  problems(dat)”\n",
      "\u001b[1mRows: \u001b[22m\u001b[34m148\u001b[39m \u001b[1mColumns: \u001b[22m\u001b[34m1\u001b[39m\n",
      "\u001b[36m──\u001b[39m \u001b[1mColumn specification\u001b[22m \u001b[36m────────────────────────────────────────────────────────\u001b[39m\n",
      "\u001b[1mDelimiter:\u001b[22m \",\"\n",
      "\u001b[31mchr\u001b[39m (1): <!-- UBCIT Communication -->\n",
      "\n",
      "\u001b[36mℹ\u001b[39m Use `spec()` to retrieve the full column specification for this data.\n",
      "\u001b[36mℹ\u001b[39m Specify the column types or set `show_col_types = FALSE` to quiet this message.\n"
     ]
    },
    {
     "data": {
      "text/html": [
       "<table class=\"dataframe\">\n",
       "<caption>A spec_tbl_df: 148 × 1</caption>\n",
       "<thead>\n",
       "\t<tr><th scope=col>&lt;!-- UBCIT Communication --&gt;</th></tr>\n",
       "\t<tr><th scope=col>&lt;chr&gt;</th></tr>\n",
       "</thead>\n",
       "<tbody>\n",
       "\t<tr><td>&lt;!DOCTYPE html&gt;</td></tr>\n",
       "\t<tr><td><span style=white-space:pre-wrap>&lt;html&gt;         </span></td></tr>\n",
       "\t<tr><td><span style=white-space:pre-wrap>&lt;head&gt;         </span></td></tr>\n",
       "\t<tr><td>⋮</td></tr>\n",
       "\t<tr><td>&lt;!-- End of Footer --&gt;</td></tr>\n",
       "\t<tr><td><span style=white-space:pre-wrap>&lt;/body&gt;               </span></td></tr>\n",
       "\t<tr><td><span style=white-space:pre-wrap>&lt;/html&gt;               </span></td></tr>\n",
       "</tbody>\n",
       "</table>\n"
      ],
      "text/latex": [
       "A spec\\_tbl\\_df: 148 × 1\n",
       "\\begin{tabular}{l}\n",
       " <!-- UBCIT Communication -->\\\\\n",
       " <chr>\\\\\n",
       "\\hline\n",
       "\t <!DOCTYPE html>\\\\\n",
       "\t <html>         \\\\\n",
       "\t <head>         \\\\\n",
       "\t ⋮\\\\\n",
       "\t <!-- End of Footer -->\\\\\n",
       "\t </body>               \\\\\n",
       "\t </html>               \\\\\n",
       "\\end{tabular}\n"
      ],
      "text/markdown": [
       "\n",
       "A spec_tbl_df: 148 × 1\n",
       "\n",
       "| &lt;!-- UBCIT Communication --&gt; &lt;chr&gt; |\n",
       "|---|\n",
       "| &lt;!DOCTYPE html&gt; |\n",
       "| &lt;html&gt;          |\n",
       "| &lt;head&gt;          |\n",
       "| ⋮ |\n",
       "| &lt;!-- End of Footer --&gt; |\n",
       "| &lt;/body&gt;                |\n",
       "| &lt;/html&gt;                |\n",
       "\n"
      ],
      "text/plain": [
       "    <!-- UBCIT Communication -->\n",
       "1   <!DOCTYPE html>             \n",
       "2   <html>                      \n",
       "3   <head>                      \n",
       "⋮   ⋮                           \n",
       "146 <!-- End of Footer -->      \n",
       "147 </body>                     \n",
       "148 </html>                     "
      ]
     },
     "metadata": {},
     "output_type": "display_data"
    }
   ],
   "source": [
    "players_data <- read_csv(\"https://canvas.ubc.ca/courses/153254/files/37600949?wrap=1\")\n",
    "players_data"
   ]
  },
  {
   "cell_type": "code",
   "execution_count": null,
   "id": "85a0ba22-95c4-4863-90f5-eb528b332853",
   "metadata": {},
   "outputs": [],
   "source": []
  }
 ],
 "metadata": {
  "kernelspec": {
   "display_name": "R",
   "language": "R",
   "name": "ir"
  },
  "language_info": {
   "codemirror_mode": "r",
   "file_extension": ".r",
   "mimetype": "text/x-r-source",
   "name": "R",
   "pygments_lexer": "r",
   "version": "4.3.3"
  }
 },
 "nbformat": 4,
 "nbformat_minor": 5
}
